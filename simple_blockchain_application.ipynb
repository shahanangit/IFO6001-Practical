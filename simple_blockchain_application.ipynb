{
  "nbformat": 4,
  "nbformat_minor": 0,
  "metadata": {
    "colab": {
      "provenance": [],
      "authorship_tag": "ABX9TyMrurc8clQ75oSYgd00qm35",
      "include_colab_link": true
    },
    "kernelspec": {
      "name": "python3",
      "display_name": "Python 3"
    },
    "language_info": {
      "name": "python"
    }
  },
  "cells": [
    {
      "cell_type": "markdown",
      "metadata": {
        "id": "view-in-github",
        "colab_type": "text"
      },
      "source": [
        "<a href=\"https://colab.research.google.com/github/shahanangit/IFO6001-Practical/blob/main/simple_blockchain_application.ipynb\" target=\"_parent\"><img src=\"https://colab.research.google.com/assets/colab-badge.svg\" alt=\"Open In Colab\"/></a>"
      ]
    },
    {
      "cell_type": "code",
      "execution_count": 1,
      "metadata": {
        "id": "2JZiY_N7PZBY"
      },
      "outputs": [],
      "source": [
        "import hashlib\n",
        "import time\n",
        "\n",
        "#Creating a block class\n",
        "class Block:\n",
        "    def __init__(self, index, data, previous_hash):\n",
        "        self.index = index\n",
        "        self.timestamp = time.time()\n",
        "        self.data = data\n",
        "        self.previous_hash = previous_hash\n",
        "        self.hash = self.calculate_hash()\n",
        "\n",
        "    def calculate_hash(self):\n",
        "        block_string = f\"{self.index}{self.timestamp}{self.data}{self.previous_hash}\"\n",
        "        return hashlib.sha256(block_string.encode()).hexdigest()"
      ]
    },
    {
      "cell_type": "code",
      "source": [
        "#Creating the Blockchain class.\n",
        "class Blockchain:\n",
        "    def __init__(self):\n",
        "        self.chain = [self.create_genesis_block()]\n",
        "\n",
        "    def create_genesis_block(self):\n",
        "        return Block(0, \"Genesis Block\", \"0\")\n",
        "\n",
        "    def get_latest_block(self):\n",
        "        return self.chain[-1]\n",
        "\n",
        "    def add_block(self, data):\n",
        "        previous_block = self.get_latest_block()\n",
        "        new_block = Block(len(self.chain), data, previous_block.hash)\n",
        "        self.chain.append(new_block)\n",
        "\n",
        "    #Adding blockchain validation method\n",
        "    def is_chain_valid(self):\n",
        "        for i in range(1, len(self.chain)):\n",
        "            current = self.chain[i]\n",
        "            previous = self.chain[i - 1]\n",
        "\n",
        "            if current.hash != current.calculate_hash():\n",
        "                return False\n",
        "\n",
        "            if current.previous_hash != previous.hash:\n",
        "                return False\n",
        "\n",
        "        return True\n",
        "\n"
      ],
      "metadata": {
        "id": "W3akXrk2RYAI"
      },
      "execution_count": 11,
      "outputs": []
    },
    {
      "cell_type": "code",
      "source": [
        ""
      ],
      "metadata": {
        "id": "mwhls76Sa_aY"
      },
      "execution_count": 9,
      "outputs": []
    },
    {
      "cell_type": "code",
      "source": [
        "# Test code to add blockks, validate the chain and printing the result.\n",
        "my_blockchain = Blockchain()\n",
        "\n",
        "my_blockchain.add_block(\"First block data\")\n",
        "my_blockchain.add_block(\"Second block data\")\n",
        "\n",
        "# Check if the blockchain is valid\n",
        "print(\"Is blockchain valid?\", my_blockchain.is_chain_valid())\n",
        "\n",
        "#Print the blockchain contents\n",
        "for block in my_blockchain.chain:\n",
        "    print(\"\\nBlock Index:\", block.index)\n",
        "    print(\"Timestamp:\", block.timestamp)\n",
        "    print(\"Data:\", block.data)\n",
        "    print(\"Hash:\", block.hash)\n",
        "    print(\"Previous Hash:\", block.previous_hash)\n"
      ],
      "metadata": {
        "colab": {
          "base_uri": "https://localhost:8080/"
        },
        "id": "0Z07Oy3OeSxw",
        "outputId": "ccc8ce35-b5c6-4274-aefc-d91dd5de9b45"
      },
      "execution_count": 12,
      "outputs": [
        {
          "output_type": "stream",
          "name": "stdout",
          "text": [
            "Is blockchain valid? True\n",
            "\n",
            "Block Index: 0\n",
            "Timestamp: 1753009185.7145174\n",
            "Data: Genesis Block\n",
            "Hash: 7bc6fb872082371716b8b91092d9e33759e26d961602f0a5e1d88dd445d48078\n",
            "Previous Hash: 0\n",
            "\n",
            "Block Index: 1\n",
            "Timestamp: 1753009185.714643\n",
            "Data: First block data\n",
            "Hash: 805984c5a2bc0de3a7ce10cd63e8518158c3f53a2b764130b448fe17027ce9c9\n",
            "Previous Hash: 7bc6fb872082371716b8b91092d9e33759e26d961602f0a5e1d88dd445d48078\n",
            "\n",
            "Block Index: 2\n",
            "Timestamp: 1753009185.71471\n",
            "Data: Second block data\n",
            "Hash: 2fe176aba8822bec58c65a052c565deecdf124b87bb169ea52e353ac23964364\n",
            "Previous Hash: 805984c5a2bc0de3a7ce10cd63e8518158c3f53a2b764130b448fe17027ce9c9\n"
          ]
        }
      ]
    },
    {
      "cell_type": "code",
      "source": [
        "\n",
        "blockchain = Blockchain()\n",
        "\n",
        "def display_menu():\n",
        "    print(\"\\nBlockchain Menu\")\n",
        "    print(\"1. Add a new block\")\n",
        "    print(\"2. Display the blockchain\")\n",
        "    print(\"3. Validate blockchain\")\n",
        "    print(\"4. Exit\")\n",
        "\n",
        "while True:\n",
        "    display_menu()\n",
        "    choice = input(\"Enter your choice (1-4): \")\n",
        "\n",
        "    if choice == \"1\":\n",
        "        data = input(\"Enter transaction data: \")\n",
        "        blockchain.add_block(data)\n",
        "        print(\"Block added!\")\n",
        "    elif choice == \"2\":\n",
        "        for block in blockchain.chain:\n",
        "            print(\"\\n Block Index:\", block.index)\n",
        "            print(\"Timestamp:\", block.timestamp)\n",
        "            print(\"Data:\", block.data)\n",
        "            print(\"Hash:\", block.hash)\n",
        "            print(\"Previous Hash:\", block.previous_hash)\n",
        "    elif choice == \"3\":\n",
        "        if blockchain.is_chain_valid():\n",
        "            print(\"Blockchain is valid.\")\n",
        "        else:\n",
        "            print(\"Blockchain integrity compromised!\")\n",
        "    elif choice == \"4\":\n",
        "        print(\"Exiting the program.\")\n",
        "        break\n",
        "    else:\n",
        "        print(\"!!Invalid input. Please enter 1-4.\")\n"
      ],
      "metadata": {
        "colab": {
          "base_uri": "https://localhost:8080/"
        },
        "id": "7G-xqo6DhHVP",
        "outputId": "6b56ed32-1658-415c-b2f2-b81039956cf7"
      },
      "execution_count": 16,
      "outputs": [
        {
          "output_type": "stream",
          "name": "stdout",
          "text": [
            "\n",
            "Blockchain Menu\n",
            "1. Add a new block\n",
            "2. Display the blockchain\n",
            "3. Validate blockchain\n",
            "4. Exit\n",
            "Enter your choice (1-4): 4\n",
            "Exiting the program.\n"
          ]
        }
      ]
    },
    {
      "cell_type": "code",
      "source": [
        "blockchain = Blockchain()\n",
        "\n",
        "def display_menu():\n",
        "    print(\"\\nBlockchain Menu\")\n",
        "    print(\"1. Add a new block\")\n",
        "    print(\"2. Display the blockchain\")\n",
        "    print(\"3. Validate blockchain\")\n",
        "    print(\"4. Exit\")\n",
        "\n",
        "while True:\n",
        "    display_menu()\n",
        "    choice = input(\"Enter your choice (1-4): \")\n",
        "\n",
        "    if choice == \"1\":\n",
        "        data = input(\"Enter transaction data: \")\n",
        "        blockchain.add_block(data)\n",
        "        print(\"Block added!\")\n",
        "    elif choice == \"2\":\n",
        "        for block in blockchain.chain:\n",
        "            print(\"\\n Block Index:\", block.index)\n",
        "            print(\"Timestamp:\", block.timestamp)\n",
        "            print(\"Data:\", block.data)\n",
        "            print(\"Hash:\", block.hash)\n",
        "            print(\"Previous Hash:\", block.previous_hash)\n",
        "    elif choice == \"3\":\n",
        "        if blockchain.is_chain_valid():\n",
        "            print(\"Blockchain is valid.\")\n",
        "        else:\n",
        "            print(\"Blockchain integrity compromised!\")\n",
        "    elif choice == \"4\":\n",
        "        print(\"Exiting the program.\")\n",
        "        break\n",
        "    else:\n",
        "        print(\"!!Invalid input. Please enter 1-4.\")\n"
      ],
      "metadata": {
        "colab": {
          "base_uri": "https://localhost:8080/"
        },
        "id": "THjtDZ7yiG7D",
        "outputId": "6aae15c0-a4c1-443f-b8cf-f7ae2c879fb3"
      },
      "execution_count": 17,
      "outputs": [
        {
          "output_type": "stream",
          "name": "stdout",
          "text": [
            "\n",
            "Blockchain Menu\n",
            "1. Add a new block\n",
            "2. Display the blockchain\n",
            "3. Validate blockchain\n",
            "4. Exit\n",
            "Enter your choice (1-4): 5\n",
            "!!Invalid input. Please enter 1-4.\n",
            "\n",
            "Blockchain Menu\n",
            "1. Add a new block\n",
            "2. Display the blockchain\n",
            "3. Validate blockchain\n",
            "4. Exit\n",
            "Enter your choice (1-4): 1\n",
            "Enter transaction data: 2\n",
            "Block added!\n",
            "\n",
            "Blockchain Menu\n",
            "1. Add a new block\n",
            "2. Display the blockchain\n",
            "3. Validate blockchain\n",
            "4. Exit\n",
            "Enter your choice (1-4): 3\n",
            "Blockchain is valid.\n",
            "\n",
            "Blockchain Menu\n",
            "1. Add a new block\n",
            "2. Display the blockchain\n",
            "3. Validate blockchain\n",
            "4. Exit\n",
            "Enter your choice (1-4): 4\n",
            "Exiting the program.\n"
          ]
        }
      ]
    }
  ]
}