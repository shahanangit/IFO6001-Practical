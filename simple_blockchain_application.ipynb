{
  "nbformat": 4,
  "nbformat_minor": 0,
  "metadata": {
    "colab": {
      "provenance": [],
      "authorship_tag": "ABX9TyO4qSpoUqrKXtr71oTlzFxq",
      "include_colab_link": true
    },
    "kernelspec": {
      "name": "python3",
      "display_name": "Python 3"
    },
    "language_info": {
      "name": "python"
    }
  },
  "cells": [
    {
      "cell_type": "markdown",
      "metadata": {
        "id": "view-in-github",
        "colab_type": "text"
      },
      "source": [
        "<a href=\"https://colab.research.google.com/github/shahanangit/IFO6001-Practical/blob/main/simple_blockchain_application.ipynb\" target=\"_parent\"><img src=\"https://colab.research.google.com/assets/colab-badge.svg\" alt=\"Open In Colab\"/></a>"
      ]
    },
    {
      "cell_type": "code",
      "execution_count": 4,
      "metadata": {
        "id": "2JZiY_N7PZBY"
      },
      "outputs": [],
      "source": [
        "import hashlib\n",
        "import time\n",
        "\n",
        "#Creating a block class\n",
        "class Block:\n",
        "    def __init__(self, index, previous_hash, timestamp, data, proof):\n",
        "        self.index = index\n",
        "        self.previous_hash = previous_hash\n",
        "        self.timestamp = timestamp\n",
        "        self.data = data\n",
        "        self.proof = proof\n",
        "        self.hash = self.calculate_hash()\n",
        "\n",
        "    def calculate_hash(self):\n",
        "        block_string = f\"{self.index}{self.previous_hash}{self.timestamp}{self.data}{self.proof}\"\n",
        "        return hashlib.sha256(block_string.encode()).hexdigest()\n"
      ]
    },
    {
      "cell_type": "code",
      "source": [
        "#Creating the Blockchain class.\n",
        "class Blockchain:\n",
        "    def __init__(self):\n",
        "        self.chain = [self.create_genesis_block()]\n",
        "        self.difficulty = 4\n",
        "\n",
        "    def create_genesis_block(self):\n",
        "        return Block(0, \"0\", time.time(), \"Genesis Block\", 0)\n",
        "\n",
        "    def get_latest_block(self):\n",
        "        return self.chain[-1]\n",
        "\n",
        "    def proof_of_work(self, block):\n",
        "        block.proof = 0\n",
        "        block.hash = block.calculate_hash()\n",
        "        while not block.hash.startswith('0' * self.difficulty):\n",
        "            block.proof += 1\n",
        "            block.hash = block.calculate_hash()\n",
        "        return block\n",
        "\n",
        "    def add_block(self, new_block):\n",
        "        new_block.previous_hash = self.get_latest_block().hash\n",
        "        proofed_block = self.proof_of_work(new_block)\n",
        "        self.chain.append(proofed_block)\n",
        "\n",
        "\n",
        "    def add_data(self, data):\n",
        "        new_block = Block(\n",
        "            index=len(self.chain),\n",
        "            previous_hash=self.get_latest_block().hash,\n",
        "            timestamp=time.time(),\n",
        "            data=data,\n",
        "            proof=0\n",
        "        )\n",
        "        self.add_block(new_block)\n",
        "\n",
        "    #Adding blockchain validation method\n",
        "    def is_chain_valid(self):\n",
        "        for i in range(1, len(self.chain)):\n",
        "            current = self.chain[i]\n",
        "            previous = self.chain[i - 1]\n",
        "\n",
        "            if current.hash != current.calculate_hash():\n",
        "                return False\n",
        "\n",
        "            if current.previous_hash != previous.hash:\n",
        "                return False\n",
        "\n",
        "            if not current.hash.startswith('0' * self.difficulty):\n",
        "                return False\n",
        "\n",
        "        return True\n",
        "\n"
      ],
      "metadata": {
        "id": "W3akXrk2RYAI"
      },
      "execution_count": 6,
      "outputs": []
    },
    {
      "cell_type": "code",
      "source": [],
      "metadata": {
        "id": "mwhls76Sa_aY"
      },
      "execution_count": null,
      "outputs": []
    },
    {
      "cell_type": "code",
      "source": [
        "# Test code to add blockks, validate the chain and printing the result.\n",
        "my_blockchain = Blockchain()\n",
        "\n",
        "my_blockchain.add_block(\"First block data\")\n",
        "my_blockchain.add_block(\"Second block data\")\n",
        "\n",
        "# Check if the blockchain is valid\n",
        "print(\"Is blockchain valid?\", my_blockchain.is_chain_valid())\n",
        "\n",
        "#Print the blockchain contents\n",
        "for block in my_blockchain.chain:\n",
        "    print(\"\\nBlock Index:\", block.index)\n",
        "    print(\"Timestamp:\", block.timestamp)\n",
        "    print(\"Data:\", block.data)\n",
        "    print(\"Hash:\", block.hash)\n",
        "    print(\"Previous Hash:\", block.previous_hash)\n"
      ],
      "metadata": {
        "colab": {
          "base_uri": "https://localhost:8080/"
        },
        "id": "0Z07Oy3OeSxw",
        "outputId": "ccc8ce35-b5c6-4274-aefc-d91dd5de9b45"
      },
      "execution_count": null,
      "outputs": [
        {
          "output_type": "stream",
          "name": "stdout",
          "text": [
            "Is blockchain valid? True\n",
            "\n",
            "Block Index: 0\n",
            "Timestamp: 1753009185.7145174\n",
            "Data: Genesis Block\n",
            "Hash: 7bc6fb872082371716b8b91092d9e33759e26d961602f0a5e1d88dd445d48078\n",
            "Previous Hash: 0\n",
            "\n",
            "Block Index: 1\n",
            "Timestamp: 1753009185.714643\n",
            "Data: First block data\n",
            "Hash: 805984c5a2bc0de3a7ce10cd63e8518158c3f53a2b764130b448fe17027ce9c9\n",
            "Previous Hash: 7bc6fb872082371716b8b91092d9e33759e26d961602f0a5e1d88dd445d48078\n",
            "\n",
            "Block Index: 2\n",
            "Timestamp: 1753009185.71471\n",
            "Data: Second block data\n",
            "Hash: 2fe176aba8822bec58c65a052c565deecdf124b87bb169ea52e353ac23964364\n",
            "Previous Hash: 805984c5a2bc0de3a7ce10cd63e8518158c3f53a2b764130b448fe17027ce9c9\n"
          ]
        }
      ]
    },
    {
      "cell_type": "code",
      "source": [
        "\n",
        "blockchain = Blockchain()\n",
        "\n",
        "def display_menu():\n",
        "    print(\"\\nBlockchain Menu\")\n",
        "    print(\"1. Add a new block\")\n",
        "    print(\"2. Display the blockchain\")\n",
        "    print(\"3. Validate blockchain\")\n",
        "    print(\"4. Exit\")\n",
        "\n",
        "while True:\n",
        "    display_menu()\n",
        "    choice = input(\"Enter your choice (1-4): \")\n",
        "\n",
        "    if choice == \"1\":\n",
        "        data = input(\"Enter transaction data: \")\n",
        "        blockchain.add_data(data)\n",
        "        print(\"Block added!\")\n",
        "    elif choice == \"2\":\n",
        "        for block in blockchain.chain:\n",
        "            print(\"\\n Block Index:\", block.index)\n",
        "            print(\"Timestamp:\", block.timestamp)\n",
        "            print(\"Data:\", block.data)\n",
        "            print(\"Hash:\", block.hash)\n",
        "            print(\"Previous Hash:\", block.previous_hash)\n",
        "    elif choice == \"3\":\n",
        "        if blockchain.is_chain_valid():\n",
        "            print(\"Blockchain is valid.\")\n",
        "        else:\n",
        "            print(\"Blockchain integrity compromised!\")\n",
        "    elif choice == \"4\":\n",
        "        print(\"Exiting the program.\")\n",
        "        break\n",
        "    else:\n",
        "        print(\"!!Invalid input. Please enter 1-4.\")\n"
      ],
      "metadata": {
        "colab": {
          "base_uri": "https://localhost:8080/"
        },
        "id": "7G-xqo6DhHVP",
        "outputId": "dfdc0bce-5f19-4e19-e9f7-9eae4d17e06f"
      },
      "execution_count": null,
      "outputs": [
        {
          "output_type": "stream",
          "name": "stdout",
          "text": [
            "\n",
            "Blockchain Menu\n",
            "1. Add a new block\n",
            "2. Display the blockchain\n",
            "3. Validate blockchain\n",
            "4. Exit\n",
            "Enter your choice (1-4): 1\n",
            "Enter transaction data: 2\n",
            "Block added!\n",
            "\n",
            "Blockchain Menu\n",
            "1. Add a new block\n",
            "2. Display the blockchain\n",
            "3. Validate blockchain\n",
            "4. Exit\n",
            "Enter your choice (1-4): 5\n",
            "!!Invalid input. Please enter 1-4.\n",
            "\n",
            "Blockchain Menu\n",
            "1. Add a new block\n",
            "2. Display the blockchain\n",
            "3. Validate blockchain\n",
            "4. Exit\n",
            "Enter your choice (1-4): 3\n",
            "Blockchain is valid.\n",
            "\n",
            "Blockchain Menu\n",
            "1. Add a new block\n",
            "2. Display the blockchain\n",
            "3. Validate blockchain\n",
            "4. Exit\n"
          ]
        }
      ]
    }
  ]
}