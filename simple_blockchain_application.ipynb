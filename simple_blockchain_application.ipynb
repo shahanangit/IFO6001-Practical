{
  "nbformat": 4,
  "nbformat_minor": 0,
  "metadata": {
    "colab": {
      "provenance": [],
      "authorship_tag": "ABX9TyMvOOMcebLE9y5N6qvzY/lr",
      "include_colab_link": true
    },
    "kernelspec": {
      "name": "python3",
      "display_name": "Python 3"
    },
    "language_info": {
      "name": "python"
    }
  },
  "cells": [
    {
      "cell_type": "markdown",
      "metadata": {
        "id": "view-in-github",
        "colab_type": "text"
      },
      "source": [
        "<a href=\"https://colab.research.google.com/github/shahanangit/IFO6001-Practical/blob/main/simple_blockchain_application.ipynb\" target=\"_parent\"><img src=\"https://colab.research.google.com/assets/colab-badge.svg\" alt=\"Open In Colab\"/></a>"
      ]
    },
    {
      "cell_type": "code",
      "execution_count": 1,
      "metadata": {
        "id": "2JZiY_N7PZBY"
      },
      "outputs": [],
      "source": [
        "import hashlib\n",
        "import time\n",
        "\n",
        "#Creating a block class\n",
        "class Block:\n",
        "    def __init__(self, index, data, previous_hash):\n",
        "        self.index = index\n",
        "        self.timestamp = time.time()\n",
        "        self.data = data\n",
        "        self.previous_hash = previous_hash\n",
        "        self.hash = self.calculate_hash()\n",
        "\n",
        "    def calculate_hash(self):\n",
        "        block_string = f\"{self.index}{self.timestamp}{self.data}{self.previous_hash}\"\n",
        "        return hashlib.sha256(block_string.encode()).hexdigest()"
      ]
    },
    {
      "cell_type": "code",
      "source": [
        "#Creating the Blockchain class.\n",
        "class Blockchain:\n",
        "    def __init__(self):\n",
        "        self.chain = [self.create_genesis_block()]\n",
        "\n",
        "    def create_genesis_block(self):\n",
        "        return Block(0, \"Genesis Block\", \"0\")\n",
        "\n",
        "    def get_latest_block(self):\n",
        "        return self.chain[-1]\n",
        "\n",
        "    def add_block(self, data):\n",
        "        previous_block = self.get_latest_block()\n",
        "        new_block = Block(len(self.chain), data, previous_block.hash)\n",
        "        self.chain.append(new_block)\n"
      ],
      "metadata": {
        "id": "W3akXrk2RYAI"
      },
      "execution_count": 4,
      "outputs": []
    }
  ]
}