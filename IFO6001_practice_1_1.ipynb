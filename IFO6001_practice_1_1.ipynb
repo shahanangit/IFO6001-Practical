{
  "nbformat": 4,
  "nbformat_minor": 0,
  "metadata": {
    "colab": {
      "provenance": []
    },
    "kernelspec": {
      "name": "python3",
      "display_name": "Python 3"
    },
    "language_info": {
      "name": "python"
    }
  },
  "cells": [
    {
      "cell_type": "code",
      "execution_count": null,
      "metadata": {
        "colab": {
          "base_uri": "https://localhost:8080/"
        },
        "id": "7G5qC86a0F5j",
        "outputId": "50371f87-d65b-48a3-a553-b2d42d1a7a87"
      },
      "outputs": [
        {
          "output_type": "stream",
          "name": "stdout",
          "text": [
            "625da44e4eaf58d61cf048d168aa6f5e492dea166d8bb54ec06c30de07db57e1\n"
          ]
        }
      ],
      "source": [
        "import hashlib\n",
        "\n",
        "#1:Implement a function that calculates the hash of a block using SHA-256.\n",
        "def calculate_hash(data):\n",
        "  byte_data = data.encode('utf-8')\n",
        "  hash_object = hashlib.sha256(byte_data)\n",
        "  return hash_object.hexdigest()\n",
        "\n",
        "print(calculate_hash(\"Blockchain\"))\n"
      ]
    },
    {
      "cell_type": "code",
      "source": [
        "import time\n",
        "import hashlib\n",
        "\n",
        "#2:Create the first block in the blockchain, known as the genesis block.\n",
        "def calculate_hash(data):\n",
        "    byte_data = data.encode('utf-8')\n",
        "    return hashlib.sha256(byte_data).hexdigest()\n",
        "\n",
        "def create_genesis_block():\n",
        "    block = {\n",
        "        'index': 0,\n",
        "        'previous_hash': '0',\n",
        "        'timestamp': time.time(),\n",
        "        'data': 'Genesis Block',\n",
        "        'proof': 0\n",
        "    }\n",
        "\n",
        "    block_string = f\"{block['index']}{block['previous_hash']}{block['timestamp']}{block['data']}{block['proof']}\"\n",
        "    block['hash'] = calculate_hash(block_string)\n",
        "    return block\n",
        "\n",
        "print(create_genesis_block())\n"
      ],
      "metadata": {
        "colab": {
          "base_uri": "https://localhost:8080/"
        },
        "id": "NxAnL9tc1gq0",
        "outputId": "e699047e-4ae3-4635-9d90-73019b38072c"
      },
      "execution_count": null,
      "outputs": [
        {
          "output_type": "stream",
          "name": "stdout",
          "text": [
            "{'index': 0, 'previous_hash': '0', 'timestamp': 1752932657.1054153, 'data': 'Genesis Block', 'proof': 0, 'hash': '6fb80ab6c26e377696e10c4e427f326b222f49bc44defb7f8415ea4833238d40'}\n"
          ]
        }
      ]
    },
    {
      "cell_type": "code",
      "source": [
        "#3: Write a function that returns the last element from a list.\n",
        "def get_latest_item(items):\n",
        "    if items:\n",
        "        return items[-1]\n",
        "    else:\n",
        "        return None\n",
        "\n",
        "print(get_latest_item([1, 2, 3, 4]))\n",
        "print(get_latest_item([]))\n"
      ],
      "metadata": {
        "colab": {
          "base_uri": "https://localhost:8080/"
        },
        "id": "oVFnH40S2xkg",
        "outputId": "9dbc8745-25a7-43da-c308-f33874f00262"
      },
      "execution_count": null,
      "outputs": [
        {
          "output_type": "stream",
          "name": "stdout",
          "text": [
            "4\n",
            "None\n"
          ]
        }
      ]
    },
    {
      "cell_type": "code",
      "source": [
        "#4: Write a function that adds a dictionary (representing a new block) to a list.\n",
        "def add_data(chain, new_entry):\n",
        "    chain.append(new_entry)\n",
        "    return chain\n",
        "\n",
        "\n",
        "blockchain = [{\"index\": 0, \"data\": \"Genesis Block\"}]\n",
        "new_block = {\"index\": 1, \"data\": \"New Block\"}\n",
        "print(add_data(blockchain, new_block))\n"
      ],
      "metadata": {
        "colab": {
          "base_uri": "https://localhost:8080/"
        },
        "id": "7KdsAufu3Z49",
        "outputId": "909b7220-6af8-4e9b-d680-de01e68d9c6b"
      },
      "execution_count": null,
      "outputs": [
        {
          "output_type": "stream",
          "name": "stdout",
          "text": [
            "[{'index': 0, 'data': 'Genesis Block'}, {'index': 1, 'data': 'New Block'}]\n"
          ]
        }
      ]
    },
    {
      "cell_type": "code",
      "source": [
        "import hashlib\n",
        "\n",
        "#5: Check if the proof is valid (i.e., hash of data + proof starts with \"0000\").\n",
        "def is_valid_proof(data, proof):\n",
        "    guess = f\"{data}{proof}\".encode('utf-8')\n",
        "    guess_hash = hashlib.sha256(guess).hexdigest()\n",
        "    return guess_hash.startswith(\"0000\")\n",
        "\n",
        "print(is_valid_proof(\"test\", 1234))\n"
      ],
      "metadata": {
        "colab": {
          "base_uri": "https://localhost:8080/"
        },
        "id": "74xrXzwW4km7",
        "outputId": "94d6da9b-5af8-4687-b493-e54d22370e7b"
      },
      "execution_count": null,
      "outputs": [
        {
          "output_type": "stream",
          "name": "stdout",
          "text": [
            "False\n"
          ]
        }
      ]
    },
    {
      "cell_type": "code",
      "source": [
        "import hashlib\n",
        "#6: Find a proof value such that when concatenated with a string and hashed, the hash starts with \"0000\".\n",
        "def proof_of_work():\n",
        "    proof = 0\n",
        "    while True:\n",
        "        guess = f\"test{proof}\".encode('utf-8')\n",
        "        guess_hash = hashlib.sha256(guess).hexdigest()\n",
        "        if guess_hash.startswith(\"0000\"):\n",
        "            return proof\n",
        "        proof += 1\n",
        "\n",
        "print(proof_of_work())\n"
      ],
      "metadata": {
        "colab": {
          "base_uri": "https://localhost:8080/"
        },
        "id": "PPy8i4c25Yim",
        "outputId": "73c4b94a-293d-4f18-e391-0d9f5a1b098f"
      },
      "execution_count": null,
      "outputs": [
        {
          "output_type": "stream",
          "name": "stdout",
          "text": [
            "93721\n"
          ]
        }
      ]
    },
    {
      "cell_type": "code",
      "source": [
        "#7: Check whether each dictionary in a list correctly references the previous one.\n",
        "def validate_blocks(blocks):\n",
        "    for i in range(1, len(blocks)):\n",
        "        if blocks[i].get('previous_hash') != blocks[i - 1].get('hash'):\n",
        "            return False\n",
        "    return True\n",
        "\n",
        "blockchain = [\n",
        "    {\"index\": 0, \"hash\": \"abcd\"},\n",
        "    {\"index\": 1, \"previous_hash\": \"abcd\", \"hash\": \"efgh\"},\n",
        "    {\"index\": 2, \"previous_hash\": \"efgh\", \"hash\": \"ijkl\"}\n",
        "]\n",
        "print(validate_blocks(blockchain))\n"
      ],
      "metadata": {
        "colab": {
          "base_uri": "https://localhost:8080/"
        },
        "id": "Fj6oBG2P6B9G",
        "outputId": "9603ede8-8bf4-47d8-8cef-b9e2efe28a55"
      },
      "execution_count": null,
      "outputs": [
        {
          "output_type": "stream",
          "name": "stdout",
          "text": [
            "True\n"
          ]
        }
      ]
    },
    {
      "cell_type": "code",
      "source": [
        "import json\n",
        "\n",
        "#8: Implement functions to save and load blockchain data using JSON..\n",
        "def save_blockchain(blockchain, filename):\n",
        "    with open(filename, 'w') as file:\n",
        "        json.dump(blockchain, file, indent=4)\n",
        "\n",
        "def load_blockchain(filename):\n",
        "    with open(filename, 'r') as file:\n",
        "        return json.load(file)\n",
        "\n",
        "blockchain = [{\"index\": 0, \"data\": \"Genesis Block\"}]\n",
        "save_blockchain(blockchain, \"blockchain.json\")\n",
        "print(load_blockchain(\"blockchain.json\"))\n"
      ],
      "metadata": {
        "colab": {
          "base_uri": "https://localhost:8080/"
        },
        "id": "U0H2O9DW6sgF",
        "outputId": "36538d9f-2997-4cc6-afa0-aac95e9621d8"
      },
      "execution_count": null,
      "outputs": [
        {
          "output_type": "stream",
          "name": "stdout",
          "text": [
            "[{'index': 0, 'data': 'Genesis Block'}]\n"
          ]
        }
      ]
    }
  ]
}